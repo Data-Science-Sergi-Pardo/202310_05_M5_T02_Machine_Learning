{
 "cells": [
  {
   "cell_type": "markdown",
   "id": "14e7e116",
   "metadata": {},
   "source": [
    "### Exercicis de Train-Test amb ScikitLearn a partir d'un dataset amb informació sobre les vivendes de Houston.\n",
    "- També adjunt trobaràs una descripció de les diferents variables del dataset."
   ]
  },
  {
   "cell_type": "markdown",
   "id": "ae37590d",
   "metadata": {},
   "source": [
    "### Exercici 1\n",
    "- Parteix el conjunt de dades adjunt en train i test. Estudia els dos conjunts per separat, a nivell descriptiu."
   ]
  },
  {
   "cell_type": "markdown",
   "id": "696266f2",
   "metadata": {},
   "source": [
    "### Exercici 2\n",
    "- Aplica algun procés de transformació (estandarditzar les dades numèriques, crear columnes dummies, polinomis...)."
   ]
  },
  {
   "cell_type": "markdown",
   "id": "b5ca0eed",
   "metadata": {},
   "source": [
    "### Exercici 3\n",
    "- Resumeix les noves columnes generades de manera estadística i gràfica"
   ]
  },
  {
   "cell_type": "code",
   "execution_count": null,
   "id": "122c871b",
   "metadata": {},
   "outputs": [],
   "source": []
  }
 ],
 "metadata": {
  "kernelspec": {
   "display_name": "Python 3 (ipykernel)",
   "language": "python",
   "name": "python3"
  },
  "language_info": {
   "codemirror_mode": {
    "name": "ipython",
    "version": 3
   },
   "file_extension": ".py",
   "mimetype": "text/x-python",
   "name": "python",
   "nbconvert_exporter": "python",
   "pygments_lexer": "ipython3",
   "version": "3.10.8"
  }
 },
 "nbformat": 4,
 "nbformat_minor": 5
}
